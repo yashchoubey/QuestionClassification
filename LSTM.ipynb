{
 "cells": [
  {
   "cell_type": "code",
   "execution_count": 1,
   "metadata": {
    "colab": {
     "autoexec": {
      "startup": false,
      "wait_interval": 0
     }
    },
    "colab_type": "code",
    "id": "UnIHMnIViw8E"
   },
   "outputs": [],
   "source": [
    "import pandas as pd\n",
    "import re\n",
    "import HTMLParser\n",
    "import numpy as np\n",
    "from keras.models import Sequential\n",
    "from keras.layers import Dense, Embedding, LSTM\n",
    "from sklearn.model_selection import train_test_split\n",
    "from keras.utils.np_utils import to_categorical\n",
    "from keras.preprocessing.text import Tokenizer\n",
    "from keras.preprocessing.sequence import pad_sequences\n",
    "from keras.callbacks import History \n",
    "from keras import regularizers\n",
    "from keras import optimizers\n",
    "from sklearn import preprocessing\n",
    "le = preprocessing.LabelEncoder()\n",
    "\n",
    "import matplotlib.pyplot as plt\n",
    "%matplotlib inline"
   ]
  },
  {
   "cell_type": "code",
   "execution_count": 2,
   "metadata": {
    "colab": {
     "autoexec": {
      "startup": false,
      "wait_interval": 0
     },
     "base_uri": "https://localhost:8080/",
     "height": 74
    },
    "colab_type": "code",
    "executionInfo": {
     "elapsed": 1435,
     "status": "ok",
     "timestamp": 1525959029656,
     "user": {
      "displayName": "Yash Choubey",
      "photoUrl": "https://lh3.googleusercontent.com/a/default-user=s128",
      "userId": "101378480509023372177"
     },
     "user_tz": -330
    },
    "id": "w64gS_zCiw8G",
    "outputId": "0c195e8a-7049-41ce-ff7b-29bc54289b70"
   },
   "outputs": [
    {
     "name": "stderr",
     "output_type": "stream",
     "text": [
      "/usr/local/lib/python2.7/dist-packages/ipykernel_launcher.py:1: ParserWarning: Falling back to the 'python' engine because the 'c' engine does not support regex separators (separators > 1 char and different from '\\s+' are interpreted as regex); you can avoid this warning by specifying engine='python'.\n",
      "  \"\"\"Entry point for launching an IPython kernel.\n"
     ]
    }
   ],
   "source": [
    "df = pd.read_csv(\"LabelledData (1).txt\",sep=\",,,\",header=None ,names=['question','type'])"
   ]
  },
  {
   "cell_type": "code",
   "execution_count": 3,
   "metadata": {
    "colab": {
     "autoexec": {
      "startup": false,
      "wait_interval": 0
     }
    },
    "colab_type": "code",
    "id": "LfrEFM0siw8N"
   },
   "outputs": [],
   "source": [
    "#Data Cleaning\n",
    "def data_cleaning(df):\n",
    "    df['type']=df['type'].str.strip()\n",
    "    html_parser = HTMLParser.HTMLParser()\n",
    "\n",
    "    # df['question'] = df['question'].apply(lambda x: html_parser.unescape(x))\n",
    "    # df['question'] = df['question'].apply(lambda x: x.encode('ascii','ignore'))\n",
    "\n",
    "    # df['question'] = df['question'].apply(lambda x: x.lower())\n",
    "    # df['question'] = df['question'].apply(lambda x: x.replace(\":\",' : '))\n",
    "    # df['question'] = df['question'].apply(lambda x: x.replace(\"!\",'. '))\n",
    "    df['question'] = df['question'].apply(lambda x: re.sub('[^a-z0-9\\s]','',x))\n",
    "    df['question'] = df['question'].apply(lambda x: \"\".join(x.strip()))\n",
    "    # df.append([df[df.type=='when']]*5,ignore_index=True)\n",
    "    # df.append([df[df.type=='affirmation']]*5,ignore_index=True)\n",
    "    # df.append([df[df.type=='unknown']]*2,ignore_index=True)\n",
    "    return df\n",
    "\n",
    "df=data_cleaning(df)"
   ]
  },
  {
   "cell_type": "code",
   "execution_count": 5,
   "metadata": {
    "colab": {
     "autoexec": {
      "startup": false,
      "wait_interval": 0
     }
    },
    "colab_type": "code",
    "id": "SJAp4amNiw8S"
   },
   "outputs": [],
   "source": [
    "#Hyper parameters\n",
    "\n",
    "MAX_NB_WORDS = 16384\n",
    "MAX_SEQUENCE_LENGTH=24\n",
    "SPLIT_RATIO=0.2\n",
    "EMB_DIMENSION=300\n",
    "BATCH_SIZE=512\n",
    "EPOCHS=5000\n",
    "VERBOSE=0"
   ]
  },
  {
   "cell_type": "code",
   "execution_count": 6,
   "metadata": {
    "colab": {
     "autoexec": {
      "startup": false,
      "wait_interval": 0
     }
    },
    "colab_type": "code",
    "id": "9o4l0y8Ziw8V"
   },
   "outputs": [],
   "source": []
  },
  {
   "cell_type": "code",
   "execution_count": 7,
   "metadata": {
    "colab": {
     "autoexec": {
      "startup": false,
      "wait_interval": 0
     },
     "base_uri": "https://localhost:8080/",
     "height": 72
    },
    "colab_type": "code",
    "executionInfo": {
     "elapsed": 2519,
     "status": "ok",
     "timestamp": 1525959063364,
     "user": {
      "displayName": "Yash Choubey",
      "photoUrl": "https://lh3.googleusercontent.com/a/default-user=s128",
      "userId": "101378480509023372177"
     },
     "user_tz": -330
    },
    "id": "17vccSB-iw8W",
    "outputId": "41c1fa6e-211c-42dd-b782-acbf01eff348"
   },
   "outputs": [
    {
     "name": "stdout",
     "output_type": "stream",
     "text": [
      "Found 3685 unique tokens.\n",
      "('Shape of data tensor:', (1483, 24))\n",
      "('Shape of label tensor:', (1483, 5))\n"
     ]
    }
   ],
   "source": [
    "#Preprocessing\n",
    "\n",
    "def data_preprocessing(df):\n",
    "    #tokenization\n",
    "    tokenizer = Tokenizer(num_words=MAX_NB_WORDS, split=' ')\n",
    "    tokenizer.fit_on_texts(df['question'].values)\n",
    "\n",
    "    X = tokenizer.texts_to_sequences(df['question'].values)\n",
    "    #padding\n",
    "    X = pad_sequences(X, maxlen=MAX_SEQUENCE_LENGTH)\n",
    "    \n",
    "    #word_index\n",
    "    word_index = tokenizer.word_index\n",
    "    print('Found %s unique tokens.' % len(word_index))\n",
    "    \n",
    "    #label encoding\n",
    "    Y = df['type']\n",
    "    le.fit(Y)\n",
    "    Y=le.transform(Y) \n",
    "    labels = to_categorical(np.asarray(Y))\n",
    "    print('Shape of data tensor:', X.shape)\n",
    "    print('Shape of label tensor:', labels.shape)\n",
    "    \n",
    "    #data splitting\n",
    "    return train_test_split(X, labels, test_size = SPLIT_RATIO)\n",
    "    \n",
    "\n",
    "x_train, x_test, y_train, y_test = data_preprocessing(df)"
   ]
  },
  {
   "cell_type": "code",
   "execution_count": 8,
   "metadata": {
    "colab": {
     "autoexec": {
      "startup": false,
      "wait_interval": 0
     },
     "base_uri": "https://localhost:8080/",
     "height": 35
    },
    "colab_type": "code",
    "executionInfo": {
     "elapsed": 107950,
     "status": "ok",
     "timestamp": 1525959185373,
     "user": {
      "displayName": "Yash Choubey",
      "photoUrl": "https://lh3.googleusercontent.com/a/default-user=s128",
      "userId": "101378480509023372177"
     },
     "user_tz": -330
    },
    "id": "dAPbsRUDiw8Z",
    "outputId": "466dca70-3f4e-4307-8b56-43c484c03a10"
   },
   "outputs": [
    {
     "name": "stdout",
     "output_type": "stream",
     "text": [
      "Found 1917494 word vectors.\n"
     ]
    }
   ],
   "source": [
    "def get_glove_embeddings()\n",
    "    embeddings_index = {}\n",
    "    \n",
    "    # load and create embeddings\n",
    "    f = open('./glove.42B.300d.txt')\n",
    "    for line in f:\n",
    "        #print line\n",
    "        values = line.split()\n",
    "        word = values[0]\n",
    "        coefs = np.asarray(values[1:], dtype='float32')\n",
    "        embeddings_index[word] = coefs\n",
    "    f.close()\n",
    "    return embeddings_index\n",
    "    \n",
    "embeddings_index=get_glove_embeddings()\n",
    "\n",
    "print('Found %s word vectors.' % len(embeddings_index))"
   ]
  },
  {
   "cell_type": "code",
   "execution_count": 9,
   "metadata": {
    "colab": {
     "autoexec": {
      "startup": false,
      "wait_interval": 0
     },
     "base_uri": "https://localhost:8080/",
     "height": 35
    },
    "colab_type": "code",
    "executionInfo": {
     "elapsed": 940,
     "status": "ok",
     "timestamp": 1525960442190,
     "user": {
      "displayName": "Yash Choubey",
      "photoUrl": "https://lh3.googleusercontent.com/a/default-user=s128",
      "userId": "101378480509023372177"
     },
     "user_tz": -330
    },
    "id": "a5LPbGLFiw8e",
    "outputId": "e91b04e9-22e3-434e-98c6-8a5631870ecc"
   },
   "outputs": [
    {
     "name": "stdout",
     "output_type": "stream",
     "text": [
      "Found 1917494 word vectors.\n"
     ]
    }
   ],
   "source": [
    "print('Found %s word vectors.' % len(embeddings_index))"
   ]
  },
  {
   "cell_type": "code",
   "execution_count": 10,
   "metadata": {
    "colab": {
     "autoexec": {
      "startup": false,
      "wait_interval": 0
     }
    },
    "colab_type": "code",
    "id": "L9pMAISZiw8g"
   },
   "outputs": [],
   "source": [
    "def create_embedding_matrix():\n",
    "    embedding_matrix = np.zeros((len(word_index) + 1, EMB_DIMENSION))\n",
    "    for word, i in word_index.items():\n",
    "        embedding_vector = embeddings_index.get(word)\n",
    "        if embedding_vector is not None:\n",
    "            # words not found in embedding index will be all-zeros.\n",
    "            embedding_matrix[i] = embedding_vector\n",
    "    return embedding_matrix\n",
    "\n",
    "embedding_matrix=create_embedding_matrix()"
   ]
  },
  {
   "cell_type": "code",
   "execution_count": 11,
   "metadata": {
    "colab": {
     "autoexec": {
      "startup": false,
      "wait_interval": 0
     }
    },
    "colab_type": "code",
    "id": "AMdmoIGdiw8i"
   },
   "outputs": [],
   "source": [
    "\n",
    "\n",
    "embedding_layer = Embedding(len(word_index) + 1,\n",
    "                            EMB_DIMENSION,\n",
    "                            weights=[embedding_matrix],\n",
    "                            input_length=MAX_SEQUENCE_LENGTH,\n",
    "                            trainable=False)"
   ]
  },
  {
   "cell_type": "code",
   "execution_count": 12,
   "metadata": {
    "colab": {
     "autoexec": {
      "startup": false,
      "wait_interval": 0
     }
    },
    "colab_type": "code",
    "id": "OWliTYqkiw8l"
   },
   "outputs": [],
   "source": [
    "def get_model():\n",
    "    history = History()\n",
    "    model = Sequential()\n",
    "    model.add(embedding_layer)\n",
    "    model.add(LSTM(256, dropout=0.4, recurrent_dropout=0.4, activation='relu',kernel_regularizer=regularizers.l2(0.001)))#,activity_regularizer=regularizers.l1(0.01)))\n",
    "\n",
    "    #model.add(LSTM(256, dropout_U=0.5, dropout_W=0.5, activation='relu', kernel_regularizer=l2_reg))\n",
    "    model.add(Dense(5,activation='softmax'))#,kernel_regularizer=regularizers.l2(0.01), activity_regularizer=regularizers.l1(0.01)))\n",
    "    rmsprop = optimizers.Adam(lr=0.0001, beta_1=0.9, beta_2=0.999)\n",
    "    model.compile(loss = 'categorical_crossentropy', optimizer=rmsprop,metrics = ['accuracy'])"
   ]
  },
  {
   "cell_type": "code",
   "execution_count": 13,
   "metadata": {
    "colab": {
     "autoexec": {
      "startup": false,
      "wait_interval": 0
     },
     "base_uri": "https://localhost:8080/",
     "height": 181854
    },
    "colab_type": "code",
    "executionInfo": {
     "elapsed": 796639,
     "status": "ok",
     "timestamp": 1525964966590,
     "user": {
      "displayName": "Yash Choubey",
      "photoUrl": "https://lh3.googleusercontent.com/a/default-user=s128",
      "userId": "101378480509023372177"
     },
     "user_tz": -330
    },
    "id": "8nGe1O9Fiw8o",
    "outputId": "edeefa34-6611-417c-f4f4-5a7550fe96b8"
   },
   "outputs": [],
   "source": [
    "model=get_model()\n",
    "\n",
    "history=model.fit(x_train, y_train,\n",
    "          batch_size=BATCH_SIZE,\n",
    "          epochs=EPOCHS,\n",
    "          verbose=VERBOSE,\n",
    "          validation_data=(x_test, y_test))"
   ]
  },
  {
   "cell_type": "code",
   "execution_count": 14,
   "metadata": {
    "colab": {
     "autoexec": {
      "startup": false,
      "wait_interval": 0
     },
     "base_uri": "https://localhost:8080/",
     "height": 572
    },
    "colab_type": "code",
    "executionInfo": {
     "elapsed": 2481,
     "status": "ok",
     "timestamp": 1525964974976,
     "user": {
      "displayName": "Yash Choubey",
      "photoUrl": "https://lh3.googleusercontent.com/a/default-user=s128",
      "userId": "101378480509023372177"
     },
     "user_tz": -330
    },
    "id": "ny7cBiimiw8q",
    "outputId": "5343094f-94c3-4f8a-a0ba-490ee7ed1e4a"
   },
   "outputs": [
    {
     "data": {
      "image/png": "[encoded data removed]",
      "text/plain": [
       "<Figure size 432x288 with 1 Axes>"
      ]
     },
     "metadata": {},
     "output_type": "display_data"
    },
    {
     "data": {
      "image/png": "[encoded data removed]",
      "text/plain": [
       "<Figure size 432x288 with 1 Axes>"
      ]
     },
     "metadata": {},
     "output_type": "display_data"
    }
   ],
   "source": [
    "##graphs\n",
    "\n",
    "plt.plot(history.history['acc'])\n",
    "plt.plot(history.history['val_acc'])\n",
    "plt.title('model accuracy')\n",
    "plt.ylabel('accuracy')\n",
    "plt.xlabel('epoch')\n",
    "plt.legend(['train', 'test'], loc='upper left')\n",
    "plt.show()\n",
    "plt.plot(history.history['loss'])\n",
    "plt.plot(history.history['val_loss'])\n",
    "plt.title('model loss')\n",
    "plt.ylabel('loss')\n",
    "plt.xlabel('epoch')\n",
    "plt.legend(['train', 'test'], loc='upper left')\n",
    "plt.show()"
   ]
  },
  {
   "cell_type": "code",
   "execution_count": 15,
   "metadata": {
    "colab": {
     "autoexec": {
      "startup": false,
      "wait_interval": 0
     }
    },
    "colab_type": "code",
    "id": "vvJM0pMAiw8t"
   },
   "outputs": [],
   "source": [
    "example = tokenizer.texts_to_sequences([\"What time does the train leave\"])\n",
    "example = pad_sequences(example, maxlen=MAX_SEQUENCE_LENGTH)"
   ]
  },
  {
   "cell_type": "code",
   "execution_count": 16,
   "metadata": {
    "colab": {
     "autoexec": {
      "startup": false,
      "wait_interval": 0
     },
     "base_uri": "https://localhost:8080/",
     "height": 90
    },
    "colab_type": "code",
    "executionInfo": {
     "elapsed": 1109,
     "status": "ok",
     "timestamp": 1525937643849,
     "user": {
      "displayName": "Yash Choubey",
      "photoUrl": "https://lh3.googleusercontent.com/a/default-user=s128",
      "userId": "101378480509023372177"
     },
     "user_tz": -330
    },
    "id": "fgpmu1lciw8v",
    "outputId": "07ddb36e-cf8f-4b5d-9124-300093805daa"
   },
   "outputs": [
    {
     "name": "stderr",
     "output_type": "stream",
     "text": [
      "/usr/local/lib/python2.7/dist-packages/sklearn/preprocessing/label.py:151: DeprecationWarning: The truth value of an empty array is ambiguous. Returning False, but in future this will result in an error. Use `array.size > 0` to check that an array is not empty.\n",
      "  if diff:\n"
     ]
    },
    {
     "data": {
      "text/plain": [
       "'when'"
      ]
     },
     "execution_count": 16,
     "metadata": {},
     "output_type": "execute_result"
    }
   ],
   "source": [
    "le.inverse_transform(np.argmax(model.predict(example)))"
   ]
  },
  {
   "cell_type": "code",
   "execution_count": 17,
   "metadata": {},
   "outputs": [
    {
     "name": "stdout",
     "output_type": "stream",
     "text": [
      "297/297 [==============================] - 0s 194us/step\n",
      "('Accuracy :', [0.12871633049238612, 0.9831649831649831])\n"
     ]
    }
   ],
   "source": [
    "# evaluate the model of test data\n",
    "\n",
    "from sklearn.metrics import classification_report\n",
    "predictions = model.predict(x_test)\n",
    "#print(classification_report(predictions,y_test))\n",
    "print(\"Accuracy :\",model.evaluate(x_test,y_test))"
   ]
  },
  {
   "cell_type": "code",
   "execution_count": 18,
   "metadata": {
    "colab": {
     "autoexec": {
      "startup": false,
      "wait_interval": 0
     },
     "base_uri": "https://localhost:8080/",
     "height": 198
    },
    "colab_type": "code",
    "executionInfo": {
     "elapsed": 1515,
     "status": "ok",
     "timestamp": 1525960409742,
     "user": {
      "displayName": "Yash Choubey",
      "photoUrl": "https://lh3.googleusercontent.com/a/default-user=s128",
      "userId": "101378480509023372177"
     },
     "user_tz": -330
    },
    "id": "spu9p2iEPsrH",
    "outputId": "3f5580a6-04bb-47e0-9165-8db82d12f88d"
   },
   "outputs": [
    {
     "data": {
      "text/plain": [
       "'\\n#Inference\\n\\n-> deep learning algorithms clearly outperform statistical algorithms\\n-> LSTMs are better in caputuring sequential features that others cannot.\\n-> It is more expensive to calculate the network output and apply back propagation in deep learning models.\\n'"
      ]
     },
     "execution_count": 18,
     "metadata": {},
     "output_type": "execute_result"
    }
   ],
   "source": [
    "'''\n",
    "#Inference\n",
    "\n",
    "-> deep learning algorithms clearly outperform statistical algorithms\n",
    "-> LSTMs are better in caputuring sequential features that others cannot.\n",
    "-> It is more expensive to calculate the network output and apply back propagation in deep learning models.\n",
    "'''\n"
   ]
  }
 ],
 "metadata": {
  "accelerator": "GPU",
  "colab": {
   "collapsed_sections": [],
   "default_view": {},
   "name": "LSTM.ipynb",
   "provenance": [],
   "version": "0.3.2",
   "views": {}
  },
  "kernelspec": {
   "display_name": "Python 2",
   "language": "python",
   "name": "python2"
  },
  "language_info": {
   "codemirror_mode": {
    "name": "ipython",
    "version": 3
   },
   "file_extension": ".py",
   "mimetype": "text/x-python",
   "name": "python",
   "nbconvert_exporter": "python",
   "pygments_lexer": "ipython3",
   "version": "3.7.3"
  }
 },
 "nbformat": 4,
 "nbformat_minor": 1
}
